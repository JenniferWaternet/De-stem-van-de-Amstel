{
 "cells": [
  {
   "cell_type": "markdown",
   "metadata": {},
   "source": [
    "# Gebruik van Azure's stem voor Text To Speech (TTS) \n",
    "\n",
    "In deze notebook leer je hoe je de Text-to-Speech (TTS)-functie van Microsoft Azure gebruikt om geschreven tekst om te zetten naar natuurlijke spraak. Met Azure's Cognitive Services kun je eenvoudig audio genereren in verschillende stemmen, talen en accenten.\n",
    "\n",
    "We gebruiken de Azure Speech SDK, die toegang geeft tot krachtige AI-modellen voor spraaksynthese. Je kunt zelf kiezen hoe de stem klinkt (bijv. vrouwelijk/mannelijk, formeel/vriendelijk)."
   ]
  },
  {
   "cell_type": "markdown",
   "metadata": {},
   "source": [
    "### 1. Installeren van benodigde bibliotheken\n",
    "Zorg ervoor dat je de benodigde bibliotheek hebt geïnstalleerd. Hier maken we gebruik van azure-cognitiveservices-speech. Je kunt het installeren met het volgende commando in een notebook-cel (als je het nog niet hebt geïnstalleerd):"
   ]
  },
  {
   "cell_type": "code",
   "execution_count": null,
   "metadata": {},
   "outputs": [],
   "source": [
    "!pip install azure-cognitiveservices-speech"
   ]
  },
  {
   "cell_type": "markdown",
   "metadata": {},
   "source": [
    "### 2. Importeren van de bibliotheek\n",
    "Importeer vervolgens de benodigde bibliotheken in je notebook:"
   ]
  },
  {
   "cell_type": "code",
   "execution_count": null,
   "metadata": {},
   "outputs": [],
   "source": [
    "import azure.cognitiveservices.speech as speechsdk"
   ]
  },
  {
   "cell_type": "markdown",
   "metadata": {},
   "source": [
    "#### TODO key hoe te krijgen"
   ]
  },
  {
   "cell_type": "code",
   "execution_count": null,
   "metadata": {},
   "outputs": [],
   "source": [
    "# Replace with your Azure values\n",
    "speech_key = \"AZURE_SPEECH_KEY\"\n",
    "speech_endpoint = \"https://westeurope.api.cognitive.microsoft.com/\"  # e.g., \"westeurope\"\n",
    "\n",
    "# Configure speech service\n",
    "speech_config = speechsdk.SpeechConfig(subscription=speech_key, endpoint=speech_endpoint)"
   ]
  },
  {
   "cell_type": "markdown",
   "metadata": {},
   "source": [
    "### 4. Kies de stem die je wilt gebruiken"
   ]
  },
  {
   "cell_type": "code",
   "execution_count": null,
   "metadata": {},
   "outputs": [],
   "source": [
    "# Use Dutch voice (see https://json2video.com/ai-voices/azure/languages/dutch/ for more Dutch voices)\n",
    "voice_name = \"nl-NL-MaartenNeural\"\n",
    "speech_config.speech_synthesis_voice_name = voice_name\n",
    "\n",
    "# Set output format to MP3\n",
    "speech_config.set_speech_synthesis_output_format(\n",
    "    speechsdk.SpeechSynthesisOutputFormat.Audio16Khz32KBitRateMonoMp3\n",
    ")\n",
    "\n",
    "# Output file path\n",
    "file_name = f\"output_{voice_name}.mp3\"\n",
    "\n",
    "# Set up file audio output\n",
    "audio_config = speechsdk.audio.AudioOutputConfig(filename=file_name)\n",
    "\n",
    "# Create synthesizer\n",
    "speech_synthesizer = speechsdk.SpeechSynthesizer(\n",
    "    speech_config=speech_config,\n",
    "    audio_config=audio_config\n",
    ")"
   ]
  },
  {
   "cell_type": "markdown",
   "metadata": {},
   "source": [
    "### 5. Defineer de tekst die je om wilt zetten naar spraak"
   ]
  },
  {
   "cell_type": "code",
   "execution_count": null,
   "metadata": {},
   "outputs": [],
   "source": [
    "# Receives a text from console input.\n",
    "text = \"Kort gezegd is AI een verzamelnaam voor algoritmes en methoden die taken uitvoeren waarvan werd gedacht dat daar menselijke intelligentie voor nodig is. Artificiële intelligentie verwijst naar systemen die intelligent gedrag vertonen door hun omgeving te analyseren en - met een zekere mate van zelfstandigheid - actie ondernemen om specifieke doelen te bereiken.\"\n",
    "\n",
    "# Synthesizes the received text to speech.\n",
    "# The synthesized speech is expected to be heard on the speaker with this line executed.\n",
    "result = speech_synthesizer.speak_text_async(text).get()\n",
    "\n",
    "# Checks result.\n",
    "if result.reason == speechsdk.ResultReason.SynthesizingAudioCompleted:\n",
    "    print(\"Speech synthesized to speaker for text [{}]\".format(text))\n",
    "elif result.reason == speechsdk.ResultReason.Canceled:\n",
    "    cancellation_details = result.cancellation_details\n",
    "    print(\"Speech synthesis canceled: {}\".format(cancellation_details.reason))\n",
    "    if cancellation_details.reason == speechsdk.CancellationReason.Error:\n",
    "        if cancellation_details.error_details:\n",
    "            print(\"Error details: {}\".format(cancellation_details.error_details))\n",
    "    print(\"Did you update the subscription info?\")"
   ]
  }
 ],
 "metadata": {
  "kernelspec": {
   "display_name": "waternet-hackathon",
   "language": "python",
   "name": "python3"
  },
  "language_info": {
   "name": "python",
   "version": "3.11.9"
  }
 },
 "nbformat": 4,
 "nbformat_minor": 2
}
